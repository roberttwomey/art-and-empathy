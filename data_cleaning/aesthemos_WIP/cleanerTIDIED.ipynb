{
 "cells": [
  {
   "cell_type": "markdown",
   "metadata": {},
   "source": [
    "# AESTHEMOS\n",
    "For use with data collected from \n",
    "\n",
    "## TO-DO:\n",
    "### fix missing IDS\n",
    "* names w/ accents\n",
    "* accents mess up comparisons -> can't ID\n",
    "* Édouard Vuillard! -> Ãˆdouard Vuillard\n",
    "\n",
    "\n",
    "### make function for computation and loop through all output files\n",
    "### decide how to group\n",
    "### remove all work except functions and loops"
   ]
  },
  {
   "cell_type": "code",
   "execution_count": 1,
   "metadata": {},
   "outputs": [],
   "source": [
    "import pandas as pd\n",
    "from numpy import array\n",
    "import os"
   ]
  },
  {
   "cell_type": "code",
   "execution_count": 2,
   "metadata": {},
   "outputs": [
    {
     "data": {
      "text/plain": [
       "['pilot01', 'pilot02']"
      ]
     },
     "execution_count": 2,
     "metadata": {},
     "output_type": "execute_result"
    }
   ],
   "source": [
    "# Fixes numerical values in gallery files AND makes unique subject list\n",
    "unique_subjects = set()\n",
    "for gallery in os.listdir('data/aesthemos'):\n",
    "    if gallery.endswith(\".csv\"):\n",
    "        g = pd.read_csv(\"data/aesthemos/\" + gallery).replace({'1 - Not at all':1, '7 - Strongly':7})\n",
    "        g_subs = g['Subject #:'].tolist()\n",
    "        z = [x.replace(' ', '').lower() for x in g_subs]\n",
    "        unique_subjects = unique_subjects.union(set(z))\n",
    "        g.to_csv(\"data/aesthemos/\" + gallery, index=False)\n",
    "list(unique_subjects)"
   ]
  },
  {
   "cell_type": "code",
   "execution_count": 3,
   "metadata": {},
   "outputs": [],
   "source": [
    "# Setup key for painting IDs\n",
    "IDsTable = pd.read_csv(\"paintingIDsKey.csv\", encoding='latin1')"
   ]
  },
  {
   "cell_type": "code",
   "execution_count": 4,
   "metadata": {},
   "outputs": [],
   "source": [
    "def clean_single_gallery(filesource, sub):\n",
    "    file = pd.read_csv(filesource)\n",
    "    sub_ser = pd.Series([x.replace(' ', '').lower() for x in file['Subject #:']])\n",
    "    \n",
    "    table = file.loc[sub_ser == sub].T.reset_index().drop([0,1]).rename(columns={\"index\": \"Title\"})\n",
    "    if len(table.columns) > 1:\n",
    "        table = (\n",
    "            table\n",
    "            .assign(category=table.Title.apply(lambda x: x.split(\" \")[-1]))\n",
    "            .assign(Name=table.Title.apply(lambda x: \" \".join(x.split(\" \")[:-1])))\n",
    "            .rename(columns={ table.columns[-1]: \"score\"})\n",
    "            .drop('Title', axis=1) \n",
    "         )\n",
    "        table = table.assign(score=table.score.astype(int))\n",
    "        t = table.pivot_table(index='Name', columns='category', aggfunc=(lambda x: x))\n",
    "        t.columns = t.columns.levels[1].rename(None)\n",
    "        t = t.rename(columns=lambda x: x[1:-1]).reset_index()\n",
    "        art_split = t.Name.str.split(\" by \", expand=True)\n",
    "        t['Title'] = art_split[0]\n",
    "        t['Artist'] = art_split[1]\n",
    "        t = t.drop('Name', axis=1)\n",
    "        t = pd.merge(t, IDsTable, how='left', on=['Title', 'Artist']) #SOME PAINTINGS DISSAPEAR\n",
    "        return t\n",
    "    else:\n",
    "        print(\"ERROR: \" + sub + \" not in \" + filesource)\n",
    "        return;"
   ]
  },
  {
   "cell_type": "code",
   "execution_count": 5,
   "metadata": {
    "scrolled": true
   },
   "outputs": [],
   "source": [
    "# CONVERT ALL GALLERY FILES INTO SEPERATE SUBJECT CSVS\n",
    "for subject in unique_subjects:\n",
    "    current_sub = pd.DataFrame(\n",
    "        columns = [\"Title\", \"Artist\" \"Beautiful\", \"Calm\", \"Fascinated\", \"Funny\", \"Indifferent\", \"Moved\", \"Surprised\", \"Unsettled\"]\n",
    "    )\n",
    "    for gallery in os.listdir('data/aesthemos'):\n",
    "        if gallery.endswith(\".csv\"):\n",
    "            fix_curr = clean_single_gallery(\"data/aesthemos/\" + gallery, subject)\n",
    "            if fix_curr is not None:\n",
    "                fix_curr['Gallery'] = gallery.split()[1].replace(\".csv\", \"\")\n",
    "                current_sub = current_sub.append(fix_curr, ignore_index = True, sort=True)\n",
    "    current_sub.to_csv(\"output/\"+ subject + \"-groups.csv\", index=False)\n",
    "        "
   ]
  },
  {
   "cell_type": "markdown",
   "metadata": {},
   "source": [
    "# Group Computation/Column Cleanup"
   ]
  },
  {
   "cell_type": "code",
   "execution_count": 6,
   "metadata": {},
   "outputs": [],
   "source": [
    "def evaluate_subject_paintings(inputfilesource, outputsource = None):\n",
    "    file = pd.read_csv(inputfilesource)\n",
    "    df = file.sort_values(\"Indifferent\") #lots of indifferent scores are the same...how do you want to further seperate\n",
    "    indiff = df.tail(10)\n",
    "    indiff[\"Group\"] = \"indiff\"\n",
    "\n",
    "    others = df.iloc[:-10]\n",
    "    # create arousal (Moved + Fascinated + Funny + Surprised)\n",
    "    arousal = others['Moved'] + others['Fascinated'] + others['Funny'] + others['Surprised']\n",
    "    others[\"Arousal\"] = arousal\n",
    "    \n",
    "    # add high/low column to others\n",
    "    others = others.sort_values(\"Arousal\")\n",
    "    ### middle value split HILOW\n",
    "    \"\"\"\n",
    "    low = others.head(int(len(others)/2))\n",
    "    low[\"hilo\"] = \"lo\"\n",
    "    high = others.tail(int(len(others)/2))\n",
    "    high[\"hilo\"] = \"hi\"\n",
    "    \"\"\"\n",
    "    ### Mean value split HILOW\n",
    "    aro_mean = others[\"Arousal\"].mean() + 0.00001 # making non int should eliminate = mean\n",
    "    low = others[others[\"Arousal\"] < aro_mean]\n",
    "    low[\"hilo\"] = \"lo\"\n",
    "    high = others[others[\"Arousal\"] > aro_mean]\n",
    "    high[\"hilo\"] = \"hi\"\n",
    "    full_aro = pd.concat([low, high]).sort_values(\"Unsettled\")\n",
    "    \n",
    "    \n",
    "    \n",
    "    # make pos/neg based off of Unsettled from full_aro\n",
    "    ### middle value split\n",
    "    \"\"\"\n",
    "    neg = full_aro.head(int(len(full_aro)/2))\n",
    "    neg[\"PosNeg\"] = \"Neg\"\n",
    "    pos = full_aro.tail(int(len(full_aro)/2))\n",
    "    pos[\"PosNeg\"] = \"Pos\"\n",
    "    \"\"\"\n",
    "    ### Mean value split\n",
    "    unset_mean = full_aro[\"Unsettled\"].mean() + 0.00001 # making non int should eliminate = mean\n",
    "    neg = full_aro[full_aro[\"Unsettled\"] < unset_mean]\n",
    "    neg[\"PosNeg\"] = \"Neg\"\n",
    "    pos = full_aro[full_aro[\"Unsettled\"] > unset_mean]\n",
    "    pos[\"PosNeg\"] = \"Pos\"\n",
    "    \n",
    "    #merge hilow/posneg and make groups col\n",
    "    final_df = pd.concat([pos, neg])\n",
    "    final_df[\"Group\"] = final_df[\"hilo\"] + final_df[\"PosNeg\"]\n",
    "    final_df = final_df.drop(columns=[\"hilo\", \"PosNeg\"])\n",
    "    \n",
    "    # Add indiff and order columns\n",
    "    final_df = final_df.append(indiff, ignore_index = True)\n",
    "    cols = [\"Title\", \"Artist\", \"Gallery\", \"Unique ID\", \"Moved\", \"Fascinated\", \"Funny\", \"Surprised\", \n",
    "            \"Indifferent\", \"Calm\", \"Unsettled\", \"Beautiful\", \"Arousal\", \"Group\"]\n",
    "    final_df = final_df[cols]\n",
    "    \n",
    "    # Setup sort for rows so that it knows order Group should go in\n",
    "    final_df[\"Group\"] = pd.Categorical(final_df['Group'], [\"hiPos\", \"hiNeg\", \"loPos\", \"loNeg\", \"indiff\"])\n",
    "    final_df = final_df.sort_values(['Group','Gallery'])\n",
    "    final_df\n",
    "    \n",
    "    if outputsource is None:\n",
    "        final_df.to_csv(filesource, index=False)\n",
    "    else:\n",
    "        final_df.to_csv(outputsource, index=False)"
   ]
  },
  {
   "cell_type": "code",
   "execution_count": 7,
   "metadata": {},
   "outputs": [
    {
     "name": "stderr",
     "output_type": "stream",
     "text": [
      "/anaconda3/lib/python3.7/site-packages/ipykernel_launcher.py:5: SettingWithCopyWarning: \n",
      "A value is trying to be set on a copy of a slice from a DataFrame.\n",
      "Try using .loc[row_indexer,col_indexer] = value instead\n",
      "\n",
      "See the caveats in the documentation: http://pandas.pydata.org/pandas-docs/stable/indexing.html#indexing-view-versus-copy\n",
      "  \"\"\"\n",
      "/anaconda3/lib/python3.7/site-packages/ipykernel_launcher.py:10: SettingWithCopyWarning: \n",
      "A value is trying to be set on a copy of a slice from a DataFrame.\n",
      "Try using .loc[row_indexer,col_indexer] = value instead\n",
      "\n",
      "See the caveats in the documentation: http://pandas.pydata.org/pandas-docs/stable/indexing.html#indexing-view-versus-copy\n",
      "  # Remove the CWD from sys.path while we load stuff.\n",
      "/anaconda3/lib/python3.7/site-packages/ipykernel_launcher.py:24: SettingWithCopyWarning: \n",
      "A value is trying to be set on a copy of a slice from a DataFrame.\n",
      "Try using .loc[row_indexer,col_indexer] = value instead\n",
      "\n",
      "See the caveats in the documentation: http://pandas.pydata.org/pandas-docs/stable/indexing.html#indexing-view-versus-copy\n",
      "/anaconda3/lib/python3.7/site-packages/ipykernel_launcher.py:26: SettingWithCopyWarning: \n",
      "A value is trying to be set on a copy of a slice from a DataFrame.\n",
      "Try using .loc[row_indexer,col_indexer] = value instead\n",
      "\n",
      "See the caveats in the documentation: http://pandas.pydata.org/pandas-docs/stable/indexing.html#indexing-view-versus-copy\n",
      "/anaconda3/lib/python3.7/site-packages/ipykernel_launcher.py:42: SettingWithCopyWarning: \n",
      "A value is trying to be set on a copy of a slice from a DataFrame.\n",
      "Try using .loc[row_indexer,col_indexer] = value instead\n",
      "\n",
      "See the caveats in the documentation: http://pandas.pydata.org/pandas-docs/stable/indexing.html#indexing-view-versus-copy\n",
      "/anaconda3/lib/python3.7/site-packages/ipykernel_launcher.py:44: SettingWithCopyWarning: \n",
      "A value is trying to be set on a copy of a slice from a DataFrame.\n",
      "Try using .loc[row_indexer,col_indexer] = value instead\n",
      "\n",
      "See the caveats in the documentation: http://pandas.pydata.org/pandas-docs/stable/indexing.html#indexing-view-versus-copy\n",
      "/anaconda3/lib/python3.7/site-packages/pandas/core/frame.py:6692: FutureWarning: Sorting because non-concatenation axis is not aligned. A future version\n",
      "of pandas will change to not sort by default.\n",
      "\n",
      "To accept the future behavior, pass 'sort=False'.\n",
      "\n",
      "To retain the current behavior and silence the warning, pass 'sort=True'.\n",
      "\n",
      "  sort=sort)\n",
      "/anaconda3/lib/python3.7/site-packages/ipykernel_launcher.py:5: SettingWithCopyWarning: \n",
      "A value is trying to be set on a copy of a slice from a DataFrame.\n",
      "Try using .loc[row_indexer,col_indexer] = value instead\n",
      "\n",
      "See the caveats in the documentation: http://pandas.pydata.org/pandas-docs/stable/indexing.html#indexing-view-versus-copy\n",
      "  \"\"\"\n",
      "/anaconda3/lib/python3.7/site-packages/ipykernel_launcher.py:10: SettingWithCopyWarning: \n",
      "A value is trying to be set on a copy of a slice from a DataFrame.\n",
      "Try using .loc[row_indexer,col_indexer] = value instead\n",
      "\n",
      "See the caveats in the documentation: http://pandas.pydata.org/pandas-docs/stable/indexing.html#indexing-view-versus-copy\n",
      "  # Remove the CWD from sys.path while we load stuff.\n",
      "/anaconda3/lib/python3.7/site-packages/ipykernel_launcher.py:24: SettingWithCopyWarning: \n",
      "A value is trying to be set on a copy of a slice from a DataFrame.\n",
      "Try using .loc[row_indexer,col_indexer] = value instead\n",
      "\n",
      "See the caveats in the documentation: http://pandas.pydata.org/pandas-docs/stable/indexing.html#indexing-view-versus-copy\n",
      "/anaconda3/lib/python3.7/site-packages/ipykernel_launcher.py:26: SettingWithCopyWarning: \n",
      "A value is trying to be set on a copy of a slice from a DataFrame.\n",
      "Try using .loc[row_indexer,col_indexer] = value instead\n",
      "\n",
      "See the caveats in the documentation: http://pandas.pydata.org/pandas-docs/stable/indexing.html#indexing-view-versus-copy\n",
      "/anaconda3/lib/python3.7/site-packages/ipykernel_launcher.py:42: SettingWithCopyWarning: \n",
      "A value is trying to be set on a copy of a slice from a DataFrame.\n",
      "Try using .loc[row_indexer,col_indexer] = value instead\n",
      "\n",
      "See the caveats in the documentation: http://pandas.pydata.org/pandas-docs/stable/indexing.html#indexing-view-versus-copy\n",
      "/anaconda3/lib/python3.7/site-packages/ipykernel_launcher.py:44: SettingWithCopyWarning: \n",
      "A value is trying to be set on a copy of a slice from a DataFrame.\n",
      "Try using .loc[row_indexer,col_indexer] = value instead\n",
      "\n",
      "See the caveats in the documentation: http://pandas.pydata.org/pandas-docs/stable/indexing.html#indexing-view-versus-copy\n",
      "/anaconda3/lib/python3.7/site-packages/pandas/core/frame.py:6692: FutureWarning: Sorting because non-concatenation axis is not aligned. A future version\n",
      "of pandas will change to not sort by default.\n",
      "\n",
      "To accept the future behavior, pass 'sort=False'.\n",
      "\n",
      "To retain the current behavior and silence the warning, pass 'sort=True'.\n",
      "\n",
      "  sort=sort)\n"
     ]
    }
   ],
   "source": [
    "for subject in unique_subjects:\n",
    "    evaluate_subject_paintings(\"output/\"+ subject + \"-groups.csv\", outputsource = \"output/\"+ subject + \"-groupsGROUPED.csv\")"
   ]
  },
  {
   "cell_type": "code",
   "execution_count": null,
   "metadata": {},
   "outputs": [],
   "source": []
  }
 ],
 "metadata": {
  "kernelspec": {
   "display_name": "Python 3",
   "language": "python",
   "name": "python3"
  },
  "language_info": {
   "codemirror_mode": {
    "name": "ipython",
    "version": 3
   },
   "file_extension": ".py",
   "mimetype": "text/x-python",
   "name": "python",
   "nbconvert_exporter": "python",
   "pygments_lexer": "ipython3",
   "version": "3.7.3"
  }
 },
 "nbformat": 4,
 "nbformat_minor": 2
}
