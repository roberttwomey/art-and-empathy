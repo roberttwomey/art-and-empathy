{
 "cells": [
  {
   "cell_type": "markdown",
   "metadata": {},
   "source": [
    "# AESTHEMOS\n",
    "For use with data collected from \n",
    "\n",
    "## TO-DO:\n",
    "### Fix if subject not present in file\n",
    "### add IDs of paintings\n",
    "### Re-order columns before saving CSV\n",
    "### do actual computation work lol"
   ]
  },
  {
   "cell_type": "code",
   "execution_count": 2,
   "metadata": {},
   "outputs": [],
   "source": [
    "import pandas as pd\n",
    "from numpy import array\n",
    "import os"
   ]
  },
  {
   "cell_type": "code",
   "execution_count": 3,
   "metadata": {},
   "outputs": [
    {
     "data": {
      "text/plain": [
       "['pilot02', 'pilot01']"
      ]
     },
     "execution_count": 3,
     "metadata": {},
     "output_type": "execute_result"
    }
   ],
   "source": [
    "# Fixes numerical values in gallery files AND makes unique subject list\n",
    "unique_subjects = set()\n",
    "for gallery in os.listdir('data/aesthemos'):\n",
    "    if gallery.endswith(\".csv\"):\n",
    "        g = pd.read_csv(\"data/aesthemos/\" + gallery).replace({'1 - Not at all':1, '7 - Strongly':7})\n",
    "        g_subs = g['Subject #:'].tolist()\n",
    "        z = [x.replace(' ', '') for x in g_subs]\n",
    "        unique_subjects = unique_subjects.union(set(z))\n",
    "        g.to_csv(\"data/aesthemos/\" + gallery, index=False)\n",
    "list(unique_subjects)"
   ]
  },
  {
   "cell_type": "code",
   "execution_count": 11,
   "metadata": {},
   "outputs": [
    {
     "name": "stdout",
     "output_type": "stream",
     "text": [
      "019\n",
      "003\n",
      "002\n",
      "016\n",
      "200\n",
      "001\n",
      "100\n"
     ]
    }
   ],
   "source": [
    "for gallery in os.listdir('data/aesthemos'):\n",
    "    if gallery.endswith(\".csv\"):\n",
    "        print(gallery.split()[1].replace(\".csv\", \"\"))"
   ]
  },
  {
   "cell_type": "code",
   "execution_count": 302,
   "metadata": {},
   "outputs": [],
   "source": [
    "gal1 = raw_data = pd.read_csv(\"data/aesthemos/Gallery 001.csv\")\n",
    "gal2 = raw_data = pd.read_csv(\"data/aesthemos/Gallery 002.csv\")\n",
    "gal3 = raw_data = pd.read_csv(\"data/aesthemos/Gallery 003.csv\")"
   ]
  },
  {
   "cell_type": "code",
   "execution_count": 288,
   "metadata": {},
   "outputs": [
    {
     "data": {
      "text/html": [
       "<div>\n",
       "<style scoped>\n",
       "    .dataframe tbody tr th:only-of-type {\n",
       "        vertical-align: middle;\n",
       "    }\n",
       "\n",
       "    .dataframe tbody tr th {\n",
       "        vertical-align: top;\n",
       "    }\n",
       "\n",
       "    .dataframe thead th {\n",
       "        text-align: right;\n",
       "    }\n",
       "</style>\n",
       "<table border=\"1\" class=\"dataframe\">\n",
       "  <thead>\n",
       "    <tr style=\"text-align: right;\">\n",
       "      <th></th>\n",
       "      <th>Timestamp</th>\n",
       "      <th>Subject #:</th>\n",
       "      <th>Woman Seated by Hans Hofmann [Moved]</th>\n",
       "      <th>Woman Seated by Hans Hofmann [Fascinated]</th>\n",
       "      <th>Woman Seated by Hans Hofmann [Funny]</th>\n",
       "      <th>Woman Seated by Hans Hofmann [Surprised]</th>\n",
       "      <th>Woman Seated by Hans Hofmann [Indifferent]</th>\n",
       "      <th>Woman Seated by Hans Hofmann [Calm]</th>\n",
       "      <th>Woman Seated by Hans Hofmann [Unsettled]</th>\n",
       "      <th>Woman Seated by Hans Hofmann [Beautiful]</th>\n",
       "      <th>...</th>\n",
       "      <th>Still-life with Peaches by Raphaelle Peale [Unsettled]</th>\n",
       "      <th>Still-life with Peaches by Raphaelle Peale [Beautiful]</th>\n",
       "      <th>Still-life by José Agustin Arrieta [Moved]</th>\n",
       "      <th>Still-life by José Agustin Arrieta [Fascinated]</th>\n",
       "      <th>Still-life by José Agustin Arrieta [Funny]</th>\n",
       "      <th>Still-life by José Agustin Arrieta [Surprised]</th>\n",
       "      <th>Still-life by José Agustin Arrieta [Indifferent]</th>\n",
       "      <th>Still-life by José Agustin Arrieta [Calm]</th>\n",
       "      <th>Still-life by José Agustin Arrieta [Unsettled]</th>\n",
       "      <th>Still-life by José Agustin Arrieta [Beautiful]</th>\n",
       "    </tr>\n",
       "  </thead>\n",
       "  <tbody>\n",
       "    <tr>\n",
       "      <th>0</th>\n",
       "      <td>2020/04/07 2:00:48 PM MDT</td>\n",
       "      <td>pilot01</td>\n",
       "      <td>4</td>\n",
       "      <td>5</td>\n",
       "      <td>5</td>\n",
       "      <td>5</td>\n",
       "      <td>3</td>\n",
       "      <td>3</td>\n",
       "      <td>1</td>\n",
       "      <td>4</td>\n",
       "      <td>...</td>\n",
       "      <td>1</td>\n",
       "      <td>5</td>\n",
       "      <td>3</td>\n",
       "      <td>3</td>\n",
       "      <td>2</td>\n",
       "      <td>2</td>\n",
       "      <td>5</td>\n",
       "      <td>4</td>\n",
       "      <td>7</td>\n",
       "      <td>3</td>\n",
       "    </tr>\n",
       "    <tr>\n",
       "      <th>1</th>\n",
       "      <td>2020/04/08 1:27:20 PM MDT</td>\n",
       "      <td>pilot02</td>\n",
       "      <td>1</td>\n",
       "      <td>1</td>\n",
       "      <td>4</td>\n",
       "      <td>2</td>\n",
       "      <td>3</td>\n",
       "      <td>4</td>\n",
       "      <td>2</td>\n",
       "      <td>2</td>\n",
       "      <td>...</td>\n",
       "      <td>1</td>\n",
       "      <td>5</td>\n",
       "      <td>3</td>\n",
       "      <td>4</td>\n",
       "      <td>1</td>\n",
       "      <td>4</td>\n",
       "      <td>2</td>\n",
       "      <td>5</td>\n",
       "      <td>1</td>\n",
       "      <td>4</td>\n",
       "    </tr>\n",
       "  </tbody>\n",
       "</table>\n",
       "<p>2 rows × 50 columns</p>\n",
       "</div>"
      ],
      "text/plain": [
       "                   Timestamp Subject #:  Woman Seated by Hans Hofmann [Moved]  \\\n",
       "0  2020/04/07 2:00:48 PM MDT    pilot01                                     4   \n",
       "1  2020/04/08 1:27:20 PM MDT   pilot02                                      1   \n",
       "\n",
       "   Woman Seated by Hans Hofmann [Fascinated]  \\\n",
       "0                                          5   \n",
       "1                                          1   \n",
       "\n",
       "   Woman Seated by Hans Hofmann [Funny]  \\\n",
       "0                                     5   \n",
       "1                                     4   \n",
       "\n",
       "   Woman Seated by Hans Hofmann [Surprised]  \\\n",
       "0                                         5   \n",
       "1                                         2   \n",
       "\n",
       "   Woman Seated by Hans Hofmann [Indifferent]  \\\n",
       "0                                           3   \n",
       "1                                           3   \n",
       "\n",
       "   Woman Seated by Hans Hofmann [Calm]  \\\n",
       "0                                    3   \n",
       "1                                    4   \n",
       "\n",
       "   Woman Seated by Hans Hofmann [Unsettled]  \\\n",
       "0                                         1   \n",
       "1                                         2   \n",
       "\n",
       "   Woman Seated by Hans Hofmann [Beautiful]  ...  \\\n",
       "0                                         4  ...   \n",
       "1                                         2  ...   \n",
       "\n",
       "   Still-life with Peaches by Raphaelle Peale [Unsettled]  \\\n",
       "0                                                  1        \n",
       "1                                                  1        \n",
       "\n",
       "   Still-life with Peaches by Raphaelle Peale [Beautiful]  \\\n",
       "0                                                  5        \n",
       "1                                                  5        \n",
       "\n",
       "   Still-life by José Agustin Arrieta [Moved]  \\\n",
       "0                                           3   \n",
       "1                                           3   \n",
       "\n",
       "   Still-life by José Agustin Arrieta [Fascinated]  \\\n",
       "0                                                3   \n",
       "1                                                4   \n",
       "\n",
       "   Still-life by José Agustin Arrieta [Funny]  \\\n",
       "0                                           2   \n",
       "1                                           1   \n",
       "\n",
       "   Still-life by José Agustin Arrieta [Surprised]  \\\n",
       "0                                               2   \n",
       "1                                               4   \n",
       "\n",
       "   Still-life by José Agustin Arrieta [Indifferent]  \\\n",
       "0                                                 5   \n",
       "1                                                 2   \n",
       "\n",
       "   Still-life by José Agustin Arrieta [Calm]  \\\n",
       "0                                          4   \n",
       "1                                          5   \n",
       "\n",
       "   Still-life by José Agustin Arrieta [Unsettled]  \\\n",
       "0                                               7   \n",
       "1                                               1   \n",
       "\n",
       "   Still-life by José Agustin Arrieta [Beautiful]  \n",
       "0                                               3  \n",
       "1                                               4  \n",
       "\n",
       "[2 rows x 50 columns]"
      ]
     },
     "execution_count": 288,
     "metadata": {},
     "output_type": "execute_result"
    }
   ],
   "source": [
    "raw_data = pd.read_csv(\"data/aesthemos/Gallery 003.csv\")\n",
    "raw_data"
   ]
  },
  {
   "cell_type": "code",
   "execution_count": 12,
   "metadata": {},
   "outputs": [],
   "source": [
    "def clean_single_gallery(file, sub):\n",
    "    sub_ser = pd.Series([x.replace(' ', '') for x in file['Subject #:']])\n",
    "    \n",
    "    table = file.loc[sub_ser == sub].T.reset_index().drop([0,1]).rename(columns={\"index\": \"Title\"})\n",
    "    # if rows = 0 return empty df UGNSODFN:EJNOT EP\"OJGSE{JP<ES} IF STATEMENT NOT WORKING\n",
    "    if len(table.columns) > 1:\n",
    "        table = (\n",
    "            table\n",
    "            .assign(category=table.Title.apply(lambda x: x.split(\" \")[-1]))\n",
    "            .assign(Name=table.Title.apply(lambda x: \" \".join(x.split(\" \")[:-1])))\n",
    "            .rename(columns={ table.columns[-1]: \"score\"})\n",
    "            .drop('Title', axis=1) \n",
    "         )\n",
    "        table = table.assign(score=table.score.astype(int))\n",
    "        t = table.pivot_table(index='Name', columns='category', aggfunc=(lambda x: x))\n",
    "        t.columns = t.columns.levels[1].rename(None)\n",
    "        t = t.rename(columns=lambda x: x[1:-1]).reset_index()\n",
    "        art_split = t.Name.str.split(\" by \", expand=True)\n",
    "        t['Title'] = art_split[0]\n",
    "        t['Artist'] = art_split[1]\n",
    "        t = t.drop('Name', axis=1)\n",
    "        t['Gallery'] = file.split()[1].replace(\".csv\", \"\")\n",
    "        # GET IDs FROM TEMPLATE (Maybe make a csv 'key' file?)\n",
    "        return t\n",
    "    else:\n",
    "        print(sub + \" not in \" + file)"
   ]
  },
  {
   "cell_type": "code",
   "execution_count": 13,
   "metadata": {
    "scrolled": true
   },
   "outputs": [
    {
     "ename": "AttributeError",
     "evalue": "'DataFrame' object has no attribute 'split'",
     "output_type": "error",
     "traceback": [
      "\u001b[0;31m---------------------------------------------------------------------------\u001b[0m",
      "\u001b[0;31mAttributeError\u001b[0m                            Traceback (most recent call last)",
      "\u001b[0;32m<ipython-input-13-fc1a87ea195a>\u001b[0m in \u001b[0;36m<module>\u001b[0;34m\u001b[0m\n\u001b[1;32m      6\u001b[0m         \u001b[0;32mif\u001b[0m \u001b[0mgallery\u001b[0m\u001b[0;34m.\u001b[0m\u001b[0mendswith\u001b[0m\u001b[0;34m(\u001b[0m\u001b[0;34m\".csv\"\u001b[0m\u001b[0;34m)\u001b[0m\u001b[0;34m:\u001b[0m\u001b[0;34m\u001b[0m\u001b[0;34m\u001b[0m\u001b[0m\n\u001b[1;32m      7\u001b[0m             \u001b[0mg_csv\u001b[0m \u001b[0;34m=\u001b[0m \u001b[0mpd\u001b[0m\u001b[0;34m.\u001b[0m\u001b[0mread_csv\u001b[0m\u001b[0;34m(\u001b[0m\u001b[0;34m\"data/aesthemos/\"\u001b[0m \u001b[0;34m+\u001b[0m \u001b[0mgallery\u001b[0m\u001b[0;34m)\u001b[0m\u001b[0;34m\u001b[0m\u001b[0;34m\u001b[0m\u001b[0m\n\u001b[0;32m----> 8\u001b[0;31m             \u001b[0mfix_curr\u001b[0m \u001b[0;34m=\u001b[0m \u001b[0mclean_single_gallery\u001b[0m\u001b[0;34m(\u001b[0m\u001b[0mg_csv\u001b[0m\u001b[0;34m,\u001b[0m \u001b[0msubject\u001b[0m\u001b[0;34m)\u001b[0m\u001b[0;34m\u001b[0m\u001b[0;34m\u001b[0m\u001b[0m\n\u001b[0m\u001b[1;32m      9\u001b[0m             \u001b[0mcurrent_sub\u001b[0m \u001b[0;34m=\u001b[0m \u001b[0mcurrent_sub\u001b[0m\u001b[0;34m.\u001b[0m\u001b[0mappend\u001b[0m\u001b[0;34m(\u001b[0m\u001b[0mfix_curr\u001b[0m\u001b[0;34m,\u001b[0m \u001b[0mignore_index\u001b[0m \u001b[0;34m=\u001b[0m \u001b[0;32mTrue\u001b[0m\u001b[0;34m)\u001b[0m\u001b[0;34m\u001b[0m\u001b[0;34m\u001b[0m\u001b[0m\n\u001b[1;32m     10\u001b[0m     \u001b[0;31m# RE-ORDER COLUMNS\u001b[0m\u001b[0;34m\u001b[0m\u001b[0;34m\u001b[0m\u001b[0;34m\u001b[0m\u001b[0m\n",
      "\u001b[0;32m<ipython-input-12-70cf1160f04f>\u001b[0m in \u001b[0;36mclean_single_gallery\u001b[0;34m(file, sub)\u001b[0m\n\u001b[1;32m     20\u001b[0m         \u001b[0mt\u001b[0m\u001b[0;34m[\u001b[0m\u001b[0;34m'Artist'\u001b[0m\u001b[0;34m]\u001b[0m \u001b[0;34m=\u001b[0m \u001b[0mart_split\u001b[0m\u001b[0;34m[\u001b[0m\u001b[0;36m1\u001b[0m\u001b[0;34m]\u001b[0m\u001b[0;34m\u001b[0m\u001b[0;34m\u001b[0m\u001b[0m\n\u001b[1;32m     21\u001b[0m         \u001b[0mt\u001b[0m \u001b[0;34m=\u001b[0m \u001b[0mt\u001b[0m\u001b[0;34m.\u001b[0m\u001b[0mdrop\u001b[0m\u001b[0;34m(\u001b[0m\u001b[0;34m'Name'\u001b[0m\u001b[0;34m,\u001b[0m \u001b[0maxis\u001b[0m\u001b[0;34m=\u001b[0m\u001b[0;36m1\u001b[0m\u001b[0;34m)\u001b[0m\u001b[0;34m\u001b[0m\u001b[0;34m\u001b[0m\u001b[0m\n\u001b[0;32m---> 22\u001b[0;31m         \u001b[0mt\u001b[0m\u001b[0;34m[\u001b[0m\u001b[0;34m'Gallery'\u001b[0m\u001b[0;34m]\u001b[0m \u001b[0;34m=\u001b[0m \u001b[0mfile\u001b[0m\u001b[0;34m.\u001b[0m\u001b[0msplit\u001b[0m\u001b[0;34m(\u001b[0m\u001b[0;34m)\u001b[0m\u001b[0;34m[\u001b[0m\u001b[0;36m1\u001b[0m\u001b[0;34m]\u001b[0m\u001b[0;34m.\u001b[0m\u001b[0mreplace\u001b[0m\u001b[0;34m(\u001b[0m\u001b[0;34m\".csv\"\u001b[0m\u001b[0;34m,\u001b[0m \u001b[0;34m\"\"\u001b[0m\u001b[0;34m)\u001b[0m\u001b[0;34m\u001b[0m\u001b[0;34m\u001b[0m\u001b[0m\n\u001b[0m\u001b[1;32m     23\u001b[0m         \u001b[0;31m# GET IDs FROM TEMPLATE (Maybe make a csv 'key' file?)\u001b[0m\u001b[0;34m\u001b[0m\u001b[0;34m\u001b[0m\u001b[0;34m\u001b[0m\u001b[0m\n\u001b[1;32m     24\u001b[0m         \u001b[0;32mreturn\u001b[0m \u001b[0mt\u001b[0m\u001b[0;34m\u001b[0m\u001b[0;34m\u001b[0m\u001b[0m\n",
      "\u001b[0;32m/anaconda3/lib/python3.7/site-packages/pandas/core/generic.py\u001b[0m in \u001b[0;36m__getattr__\u001b[0;34m(self, name)\u001b[0m\n\u001b[1;32m   5065\u001b[0m             \u001b[0;32mif\u001b[0m \u001b[0mself\u001b[0m\u001b[0;34m.\u001b[0m\u001b[0m_info_axis\u001b[0m\u001b[0;34m.\u001b[0m\u001b[0m_can_hold_identifiers_and_holds_name\u001b[0m\u001b[0;34m(\u001b[0m\u001b[0mname\u001b[0m\u001b[0;34m)\u001b[0m\u001b[0;34m:\u001b[0m\u001b[0;34m\u001b[0m\u001b[0;34m\u001b[0m\u001b[0m\n\u001b[1;32m   5066\u001b[0m                 \u001b[0;32mreturn\u001b[0m \u001b[0mself\u001b[0m\u001b[0;34m[\u001b[0m\u001b[0mname\u001b[0m\u001b[0;34m]\u001b[0m\u001b[0;34m\u001b[0m\u001b[0;34m\u001b[0m\u001b[0m\n\u001b[0;32m-> 5067\u001b[0;31m             \u001b[0;32mreturn\u001b[0m \u001b[0mobject\u001b[0m\u001b[0;34m.\u001b[0m\u001b[0m__getattribute__\u001b[0m\u001b[0;34m(\u001b[0m\u001b[0mself\u001b[0m\u001b[0;34m,\u001b[0m \u001b[0mname\u001b[0m\u001b[0;34m)\u001b[0m\u001b[0;34m\u001b[0m\u001b[0;34m\u001b[0m\u001b[0m\n\u001b[0m\u001b[1;32m   5068\u001b[0m \u001b[0;34m\u001b[0m\u001b[0m\n\u001b[1;32m   5069\u001b[0m     \u001b[0;32mdef\u001b[0m \u001b[0m__setattr__\u001b[0m\u001b[0;34m(\u001b[0m\u001b[0mself\u001b[0m\u001b[0;34m,\u001b[0m \u001b[0mname\u001b[0m\u001b[0;34m,\u001b[0m \u001b[0mvalue\u001b[0m\u001b[0;34m)\u001b[0m\u001b[0;34m:\u001b[0m\u001b[0;34m\u001b[0m\u001b[0;34m\u001b[0m\u001b[0m\n",
      "\u001b[0;31mAttributeError\u001b[0m: 'DataFrame' object has no attribute 'split'"
     ]
    }
   ],
   "source": [
    "for subject in unique_subjects:\n",
    "    current_sub = pd.DataFrame(\n",
    "        columns = [\"Title\", \"Artist\" \"Beautiful\", \"Calm\", \"Fascinated\", \"Funny\", \"Indifferent\", \"Moved\", \"Surprised\", \"Unsettled\"]\n",
    "    )\n",
    "    for gallery in os.listdir('data/aesthemos'):\n",
    "        if gallery.endswith(\".csv\"):\n",
    "            g_csv = pd.read_csv(\"data/aesthemos/\" + gallery)\n",
    "            fix_curr = clean_single_gallery(g_csv, subject)\n",
    "            current_sub = current_sub.append(fix_curr, ignore_index = True)\n",
    "    # RE-ORDER COLUMNS\n",
    "    current_sub.to_csv(\"output/\"+ subject + \"-groups.csv\", index=False)\n",
    "        \n",
    "fix_curr"
   ]
  },
  {
   "cell_type": "code",
   "execution_count": null,
   "metadata": {},
   "outputs": [],
   "source": [
    "# for loop processing each file to add computation stuff needed for catagories"
   ]
  },
  {
   "cell_type": "code",
   "execution_count": null,
   "metadata": {},
   "outputs": [],
   "source": []
  }
 ],
 "metadata": {
  "kernelspec": {
   "display_name": "Python 3",
   "language": "python",
   "name": "python3"
  },
  "language_info": {
   "codemirror_mode": {
    "name": "ipython",
    "version": 3
   },
   "file_extension": ".py",
   "mimetype": "text/x-python",
   "name": "python",
   "nbconvert_exporter": "python",
   "pygments_lexer": "ipython3",
   "version": "3.7.3"
  }
 },
 "nbformat": 4,
 "nbformat_minor": 2
}
