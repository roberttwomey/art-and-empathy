{
 "cells": [
  {
   "cell_type": "markdown",
   "metadata": {},
   "source": [
    "# AESTHEMOS\n",
    "For use with data collected from \n",
    "\n",
    "## TO-DO:\n",
    "### Fix if subject not present in file\n",
    "### add IDs of paintings\n",
    "### Re-order columns before saving CSV\n",
    "### do actual computation work lol"
   ]
  },
  {
   "cell_type": "code",
   "execution_count": 1,
   "metadata": {},
   "outputs": [],
   "source": [
    "import pandas as pd\n",
    "from numpy import array\n",
    "import os"
   ]
  },
  {
   "cell_type": "code",
   "execution_count": 8,
   "metadata": {},
   "outputs": [
    {
     "data": {
      "text/plain": [
       "['guy3', 'pilot02', 'pilot01']"
      ]
     },
     "execution_count": 8,
     "metadata": {},
     "output_type": "execute_result"
    }
   ],
   "source": [
    "# Fixes numerical values in gallery files AND makes unique subject list\n",
    "unique_subjects = set()\n",
    "for gallery in os.listdir('data/aesthemos'):\n",
    "    if gallery.endswith(\".csv\"):\n",
    "        g = pd.read_csv(\"data/aesthemos/\" + gallery).replace({'1 - Not at all':1, '7 - Strongly':7})\n",
    "        g_subs = g['Subject #:'].tolist()\n",
    "        z = [x.replace(' ', '').lower() for x in g_subs]\n",
    "        unique_subjects = unique_subjects.union(set(z))\n",
    "        g.to_csv(\"data/aesthemos/\" + gallery, index=False)\n",
    "list(unique_subjects)"
   ]
  },
  {
   "cell_type": "code",
   "execution_count": 9,
   "metadata": {},
   "outputs": [
    {
     "name": "stdout",
     "output_type": "stream",
     "text": [
      "019\n",
      "003\n",
      "002\n",
      "016\n",
      "200\n",
      "001\n",
      "100\n"
     ]
    }
   ],
   "source": [
    "for gallery in os.listdir('data/aesthemos'):\n",
    "    if gallery.endswith(\".csv\"):\n",
    "        print(gallery.split()[1].replace(\".csv\", \"\"))"
   ]
  },
  {
   "cell_type": "code",
   "execution_count": 10,
   "metadata": {},
   "outputs": [],
   "source": [
    "gal1 = raw_data = pd.read_csv(\"data/aesthemos/Gallery 001.csv\")\n",
    "gal2 = raw_data = pd.read_csv(\"data/aesthemos/Gallery 002.csv\")\n",
    "gal3 = raw_data = pd.read_csv(\"data/aesthemos/Gallery 003.csv\")"
   ]
  },
  {
   "cell_type": "code",
   "execution_count": 11,
   "metadata": {},
   "outputs": [
    {
     "data": {
      "text/html": [
       "<div>\n",
       "<style scoped>\n",
       "    .dataframe tbody tr th:only-of-type {\n",
       "        vertical-align: middle;\n",
       "    }\n",
       "\n",
       "    .dataframe tbody tr th {\n",
       "        vertical-align: top;\n",
       "    }\n",
       "\n",
       "    .dataframe thead th {\n",
       "        text-align: right;\n",
       "    }\n",
       "</style>\n",
       "<table border=\"1\" class=\"dataframe\">\n",
       "  <thead>\n",
       "    <tr style=\"text-align: right;\">\n",
       "      <th></th>\n",
       "      <th>Timestamp</th>\n",
       "      <th>Subject #:</th>\n",
       "      <th>Woman Seated by Hans Hofmann [Moved]</th>\n",
       "      <th>Woman Seated by Hans Hofmann [Fascinated]</th>\n",
       "      <th>Woman Seated by Hans Hofmann [Funny]</th>\n",
       "      <th>Woman Seated by Hans Hofmann [Surprised]</th>\n",
       "      <th>Woman Seated by Hans Hofmann [Indifferent]</th>\n",
       "      <th>Woman Seated by Hans Hofmann [Calm]</th>\n",
       "      <th>Woman Seated by Hans Hofmann [Unsettled]</th>\n",
       "      <th>Woman Seated by Hans Hofmann [Beautiful]</th>\n",
       "      <th>...</th>\n",
       "      <th>Still-life with Peaches by Raphaelle Peale [Unsettled]</th>\n",
       "      <th>Still-life with Peaches by Raphaelle Peale [Beautiful]</th>\n",
       "      <th>Still-life by José Agustin Arrieta [Moved]</th>\n",
       "      <th>Still-life by José Agustin Arrieta [Fascinated]</th>\n",
       "      <th>Still-life by José Agustin Arrieta [Funny]</th>\n",
       "      <th>Still-life by José Agustin Arrieta [Surprised]</th>\n",
       "      <th>Still-life by José Agustin Arrieta [Indifferent]</th>\n",
       "      <th>Still-life by José Agustin Arrieta [Calm]</th>\n",
       "      <th>Still-life by José Agustin Arrieta [Unsettled]</th>\n",
       "      <th>Still-life by José Agustin Arrieta [Beautiful]</th>\n",
       "    </tr>\n",
       "  </thead>\n",
       "  <tbody>\n",
       "    <tr>\n",
       "      <th>0</th>\n",
       "      <td>2020/04/07 2:00:48 PM MDT</td>\n",
       "      <td>pilot01</td>\n",
       "      <td>4</td>\n",
       "      <td>5</td>\n",
       "      <td>5</td>\n",
       "      <td>5</td>\n",
       "      <td>3</td>\n",
       "      <td>3</td>\n",
       "      <td>1</td>\n",
       "      <td>4</td>\n",
       "      <td>...</td>\n",
       "      <td>1</td>\n",
       "      <td>5</td>\n",
       "      <td>3</td>\n",
       "      <td>3</td>\n",
       "      <td>2</td>\n",
       "      <td>2</td>\n",
       "      <td>5</td>\n",
       "      <td>4</td>\n",
       "      <td>7</td>\n",
       "      <td>3</td>\n",
       "    </tr>\n",
       "    <tr>\n",
       "      <th>1</th>\n",
       "      <td>2020/04/08 1:27:20 PM MDT</td>\n",
       "      <td>pilot02</td>\n",
       "      <td>1</td>\n",
       "      <td>1</td>\n",
       "      <td>4</td>\n",
       "      <td>2</td>\n",
       "      <td>3</td>\n",
       "      <td>4</td>\n",
       "      <td>2</td>\n",
       "      <td>2</td>\n",
       "      <td>...</td>\n",
       "      <td>1</td>\n",
       "      <td>5</td>\n",
       "      <td>3</td>\n",
       "      <td>4</td>\n",
       "      <td>1</td>\n",
       "      <td>4</td>\n",
       "      <td>2</td>\n",
       "      <td>5</td>\n",
       "      <td>1</td>\n",
       "      <td>4</td>\n",
       "    </tr>\n",
       "  </tbody>\n",
       "</table>\n",
       "<p>2 rows × 50 columns</p>\n",
       "</div>"
      ],
      "text/plain": [
       "                   Timestamp Subject #:  Woman Seated by Hans Hofmann [Moved]  \\\n",
       "0  2020/04/07 2:00:48 PM MDT    pilot01                                     4   \n",
       "1  2020/04/08 1:27:20 PM MDT   pilot02                                      1   \n",
       "\n",
       "   Woman Seated by Hans Hofmann [Fascinated]  \\\n",
       "0                                          5   \n",
       "1                                          1   \n",
       "\n",
       "   Woman Seated by Hans Hofmann [Funny]  \\\n",
       "0                                     5   \n",
       "1                                     4   \n",
       "\n",
       "   Woman Seated by Hans Hofmann [Surprised]  \\\n",
       "0                                         5   \n",
       "1                                         2   \n",
       "\n",
       "   Woman Seated by Hans Hofmann [Indifferent]  \\\n",
       "0                                           3   \n",
       "1                                           3   \n",
       "\n",
       "   Woman Seated by Hans Hofmann [Calm]  \\\n",
       "0                                    3   \n",
       "1                                    4   \n",
       "\n",
       "   Woman Seated by Hans Hofmann [Unsettled]  \\\n",
       "0                                         1   \n",
       "1                                         2   \n",
       "\n",
       "   Woman Seated by Hans Hofmann [Beautiful]  ...  \\\n",
       "0                                         4  ...   \n",
       "1                                         2  ...   \n",
       "\n",
       "   Still-life with Peaches by Raphaelle Peale [Unsettled]  \\\n",
       "0                                                  1        \n",
       "1                                                  1        \n",
       "\n",
       "   Still-life with Peaches by Raphaelle Peale [Beautiful]  \\\n",
       "0                                                  5        \n",
       "1                                                  5        \n",
       "\n",
       "   Still-life by José Agustin Arrieta [Moved]  \\\n",
       "0                                           3   \n",
       "1                                           3   \n",
       "\n",
       "   Still-life by José Agustin Arrieta [Fascinated]  \\\n",
       "0                                                3   \n",
       "1                                                4   \n",
       "\n",
       "   Still-life by José Agustin Arrieta [Funny]  \\\n",
       "0                                           2   \n",
       "1                                           1   \n",
       "\n",
       "   Still-life by José Agustin Arrieta [Surprised]  \\\n",
       "0                                               2   \n",
       "1                                               4   \n",
       "\n",
       "   Still-life by José Agustin Arrieta [Indifferent]  \\\n",
       "0                                                 5   \n",
       "1                                                 2   \n",
       "\n",
       "   Still-life by José Agustin Arrieta [Calm]  \\\n",
       "0                                          4   \n",
       "1                                          5   \n",
       "\n",
       "   Still-life by José Agustin Arrieta [Unsettled]  \\\n",
       "0                                               7   \n",
       "1                                               1   \n",
       "\n",
       "   Still-life by José Agustin Arrieta [Beautiful]  \n",
       "0                                               3  \n",
       "1                                               4  \n",
       "\n",
       "[2 rows x 50 columns]"
      ]
     },
     "execution_count": 11,
     "metadata": {},
     "output_type": "execute_result"
    }
   ],
   "source": [
    "raw_data = pd.read_csv(\"data/aesthemos/Gallery 003.csv\")\n",
    "raw_data"
   ]
  },
  {
   "cell_type": "code",
   "execution_count": 22,
   "metadata": {},
   "outputs": [],
   "source": [
    "def clean_single_gallery(filesource, sub):\n",
    "    file = pd.read_csv(filesource)\n",
    "    sub_ser = pd.Series([x.replace(' ', '').lower for x in file['Subject #:']])\n",
    "    \n",
    "    table = file.loc[sub_ser == sub].T.reset_index().drop([0,1]).rename(columns={\"index\": \"Title\"})\n",
    "    # if rows = 0 return empty df UGNSODFN:EJNOT EP\"OJGSE{JP<ES} IF STATEMENT NOT WORKING\n",
    "    if len(table.columns) > 1:\n",
    "        table = (\n",
    "            table\n",
    "            .assign(category=table.Title.apply(lambda x: x.split(\" \")[-1]))\n",
    "            .assign(Name=table.Title.apply(lambda x: \" \".join(x.split(\" \")[:-1])))\n",
    "            .rename(columns={ table.columns[-1]: \"score\"})\n",
    "            .drop('Title', axis=1) \n",
    "         )\n",
    "        table = table.assign(score=table.score.astype(int))\n",
    "        t = table.pivot_table(index='Name', columns='category', aggfunc=(lambda x: x))\n",
    "        t.columns = t.columns.levels[1].rename(None)\n",
    "        t = t.rename(columns=lambda x: x[1:-1]).reset_index()\n",
    "        art_split = t.Name.str.split(\" by \", expand=True)\n",
    "        t['Title'] = art_split[0]\n",
    "        t['Artist'] = art_split[1]\n",
    "        t = t.drop('Name', axis=1)\n",
    "        \n",
    "        # GET IDs FROM TEMPLATE (Maybe make a csv 'key' file?)\n",
    "        return t\n",
    "    else:\n",
    "        print(\"ERROR: \" + sub + \" not in \" + filesource)\n",
    "        return;"
   ]
  },
  {
   "cell_type": "code",
   "execution_count": 23,
   "metadata": {
    "scrolled": true
   },
   "outputs": [
    {
     "name": "stdout",
     "output_type": "stream",
     "text": [
      "ERROR: guy3 not in data/aesthemos/Gallery 019.csv\n",
      "ERROR: guy3 not in data/aesthemos/Gallery 003.csv\n",
      "ERROR: guy3 not in data/aesthemos/Gallery 002.csv\n",
      "ERROR: guy3 not in data/aesthemos/Gallery 016.csv\n",
      "ERROR: guy3 not in data/aesthemos/Gallery 200.csv\n",
      "ERROR: guy3 not in data/aesthemos/Gallery 001.csv\n",
      "ERROR: guy3 not in data/aesthemos/Gallery 100.csv\n",
      "ERROR: pilot02 not in data/aesthemos/Gallery 019.csv\n",
      "ERROR: pilot02 not in data/aesthemos/Gallery 003.csv\n",
      "ERROR: pilot02 not in data/aesthemos/Gallery 002.csv\n",
      "ERROR: pilot02 not in data/aesthemos/Gallery 016.csv\n",
      "ERROR: pilot02 not in data/aesthemos/Gallery 200.csv\n",
      "ERROR: pilot02 not in data/aesthemos/Gallery 001.csv\n",
      "ERROR: pilot02 not in data/aesthemos/Gallery 100.csv\n",
      "ERROR: pilot01 not in data/aesthemos/Gallery 019.csv\n",
      "ERROR: pilot01 not in data/aesthemos/Gallery 003.csv\n",
      "ERROR: pilot01 not in data/aesthemos/Gallery 002.csv\n",
      "ERROR: pilot01 not in data/aesthemos/Gallery 016.csv\n",
      "ERROR: pilot01 not in data/aesthemos/Gallery 200.csv\n",
      "ERROR: pilot01 not in data/aesthemos/Gallery 001.csv\n",
      "ERROR: pilot01 not in data/aesthemos/Gallery 100.csv\n"
     ]
    }
   ],
   "source": [
    "for subject in unique_subjects:\n",
    "    current_sub = pd.DataFrame(\n",
    "        columns = [\"Title\", \"Artist\" \"Beautiful\", \"Calm\", \"Fascinated\", \"Funny\", \"Indifferent\", \"Moved\", \"Surprised\", \"Unsettled\"]\n",
    "    )\n",
    "    for gallery in os.listdir('data/aesthemos'):\n",
    "        if gallery.endswith(\".csv\"):\n",
    "            fix_curr = clean_single_gallery(\"data/aesthemos/\" + gallery, subject)\n",
    "            if fix_curr is not None:\n",
    "                fix_curr['Gallery'] = gallery.split()[1].replace(\".csv\", \"\")\n",
    "                current_sub = current_sub.append(fix_curr, ignore_index = True, sort=True)\n",
    "    # RE-ORDER COLUMNS\n",
    "    current_sub.to_csv(\"output/\"+ subject + \"-groups.csv\", index=False)\n",
    "        \n",
    "fix_curr"
   ]
  },
  {
   "cell_type": "code",
   "execution_count": 29,
   "metadata": {},
   "outputs": [],
   "source": [
    "# for loop processing each file to add computation stuff needed for catagories"
   ]
  },
  {
   "cell_type": "code",
   "execution_count": null,
   "metadata": {},
   "outputs": [],
   "source": []
  }
 ],
 "metadata": {
  "kernelspec": {
   "display_name": "Python 3",
   "language": "python",
   "name": "python3"
  },
  "language_info": {
   "codemirror_mode": {
    "name": "ipython",
    "version": 3
   },
   "file_extension": ".py",
   "mimetype": "text/x-python",
   "name": "python",
   "nbconvert_exporter": "python",
   "pygments_lexer": "ipython3",
   "version": "3.7.3"
  }
 },
 "nbformat": 4,
 "nbformat_minor": 2
}
