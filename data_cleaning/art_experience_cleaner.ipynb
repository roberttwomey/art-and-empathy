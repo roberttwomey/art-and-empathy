{
 "cells": [
  {
   "cell_type": "markdown",
   "metadata": {},
   "source": [
    "# Art Experience Measure Form Data Cleaner\n",
    "For use with data collected from \n",
    "https://docs.google.com/forms/d/1lU4xEuEcQ5wtN69vhZfT5xiDC1qwCLVJTm4xzF-XPAQ/edit and downloaded as a CSV"
   ]
  },
  {
   "cell_type": "code",
   "execution_count": 1,
   "metadata": {},
   "outputs": [],
   "source": [
    "import pandas as pd\n",
    "from numpy import array"
   ]
  },
  {
   "cell_type": "code",
   "execution_count": 2,
   "metadata": {},
   "outputs": [
    {
     "data": {
      "text/html": [
       "<div>\n",
       "<style scoped>\n",
       "    .dataframe tbody tr th:only-of-type {\n",
       "        vertical-align: middle;\n",
       "    }\n",
       "\n",
       "    .dataframe tbody tr th {\n",
       "        vertical-align: top;\n",
       "    }\n",
       "\n",
       "    .dataframe thead th {\n",
       "        text-align: right;\n",
       "    }\n",
       "</style>\n",
       "<table border=\"1\" class=\"dataframe\">\n",
       "  <thead>\n",
       "    <tr style=\"text-align: right;\">\n",
       "      <th></th>\n",
       "      <th>Timestamp</th>\n",
       "      <th>Subject #:</th>\n",
       "      <th>How many studio art classes have you taken at the high school level or above?</th>\n",
       "      <th>How many art history classes have you taken at the high school level or above?</th>\n",
       "      <th>How many art theory or aesthetics classes have you taken at the highschool level or above?</th>\n",
       "      <th>On average, you visit art museums about once every</th>\n",
       "      <th>On average, you visit art galleries about once every</th>\n",
       "      <th>In the average week how many hours do you spend making visual art?</th>\n",
       "      <th>In the average week how many hours do you spend reading a publication that is related to visual art?</th>\n",
       "      <th>In the average week how many hours do you spend each week looking at visual art?</th>\n",
       "    </tr>\n",
       "  </thead>\n",
       "  <tbody>\n",
       "    <tr>\n",
       "      <th>0</th>\n",
       "      <td>2020/04/06 12:44:21 PM MDT</td>\n",
       "      <td>pilot01</td>\n",
       "      <td>5</td>\n",
       "      <td>3</td>\n",
       "      <td>3</td>\n",
       "      <td>year</td>\n",
       "      <td>NaN</td>\n",
       "      <td>0</td>\n",
       "      <td>0</td>\n",
       "      <td>0</td>\n",
       "    </tr>\n",
       "    <tr>\n",
       "      <th>1</th>\n",
       "      <td>2020/04/06 12:44:45 PM MDT</td>\n",
       "      <td>pilot02</td>\n",
       "      <td>0</td>\n",
       "      <td>0</td>\n",
       "      <td>0</td>\n",
       "      <td>year</td>\n",
       "      <td>Almost never</td>\n",
       "      <td>0</td>\n",
       "      <td>0</td>\n",
       "      <td>0</td>\n",
       "    </tr>\n",
       "  </tbody>\n",
       "</table>\n",
       "</div>"
      ],
      "text/plain": [
       "                    Timestamp Subject #:  \\\n",
       "0  2020/04/06 12:44:21 PM MDT    pilot01   \n",
       "1  2020/04/06 12:44:45 PM MDT    pilot02   \n",
       "\n",
       "   How many studio art classes have you taken at the high school level or above?   \\\n",
       "0                                                  5                                \n",
       "1                                                  0                                \n",
       "\n",
       "   How many art history classes have you taken at the high school level or above?   \\\n",
       "0                                                  3                                 \n",
       "1                                                  0                                 \n",
       "\n",
       "   How many art theory or aesthetics classes have you taken at the highschool level or above?   \\\n",
       "0                                                  3                                             \n",
       "1                                                  0                                             \n",
       "\n",
       "  On average, you visit art museums about once every  \\\n",
       "0                                               year   \n",
       "1                                               year   \n",
       "\n",
       "  On average, you visit art galleries about once every  \\\n",
       "0                                                NaN     \n",
       "1                                       Almost never     \n",
       "\n",
       "   In the average week how many hours do you spend making visual art?   \\\n",
       "0                                                  0                     \n",
       "1                                                  0                     \n",
       "\n",
       "   In the average week how many hours do you spend reading a publication that is related to visual art?   \\\n",
       "0                                                  0                                                       \n",
       "1                                                  0                                                       \n",
       "\n",
       "    In the average week how many hours do you spend each week looking at visual art?  \n",
       "0                                                  0                                  \n",
       "1                                                  0                                  "
      ]
     },
     "execution_count": 2,
     "metadata": {},
     "output_type": "execute_result"
    }
   ],
   "source": [
    "raw_data = pd.read_csv(\"data/Art Experience Measure.csv\")\n",
    "raw_data"
   ]
  },
  {
   "cell_type": "code",
   "execution_count": 12,
   "metadata": {},
   "outputs": [
    {
     "data": {
      "text/html": [
       "<div>\n",
       "<style scoped>\n",
       "    .dataframe tbody tr th:only-of-type {\n",
       "        vertical-align: middle;\n",
       "    }\n",
       "\n",
       "    .dataframe tbody tr th {\n",
       "        vertical-align: top;\n",
       "    }\n",
       "\n",
       "    .dataframe thead th {\n",
       "        text-align: right;\n",
       "    }\n",
       "</style>\n",
       "<table border=\"1\" class=\"dataframe\">\n",
       "  <thead>\n",
       "    <tr style=\"text-align: right;\">\n",
       "      <th></th>\n",
       "      <th>Timestamp</th>\n",
       "      <th>Subject #:</th>\n",
       "      <th>How many studio art classes have you taken at the high school level or above?</th>\n",
       "      <th>How many art history classes have you taken at the high school level or above?</th>\n",
       "      <th>How many art theory or aesthetics classes have you taken at the highschool level or above?</th>\n",
       "      <th>On average, you visit art museums about once every</th>\n",
       "      <th>On average, you visit art galleries about once every</th>\n",
       "      <th>In the average week how many hours do you spend making visual art?</th>\n",
       "      <th>In the average week how many hours do you spend reading a publication that is related to visual art?</th>\n",
       "      <th>In the average week how many hours do you spend each week looking at visual art?</th>\n",
       "    </tr>\n",
       "  </thead>\n",
       "  <tbody>\n",
       "    <tr>\n",
       "      <th>0</th>\n",
       "      <td>2020/04/06 12:44:21 PM MDT</td>\n",
       "      <td>pilot01</td>\n",
       "      <td>5</td>\n",
       "      <td>3</td>\n",
       "      <td>3</td>\n",
       "      <td>1</td>\n",
       "      <td>0</td>\n",
       "      <td>0</td>\n",
       "      <td>0</td>\n",
       "      <td>0</td>\n",
       "    </tr>\n",
       "    <tr>\n",
       "      <th>1</th>\n",
       "      <td>2020/04/06 12:44:45 PM MDT</td>\n",
       "      <td>pilot02</td>\n",
       "      <td>0</td>\n",
       "      <td>0</td>\n",
       "      <td>0</td>\n",
       "      <td>1</td>\n",
       "      <td>0</td>\n",
       "      <td>0</td>\n",
       "      <td>0</td>\n",
       "      <td>0</td>\n",
       "    </tr>\n",
       "  </tbody>\n",
       "</table>\n",
       "</div>"
      ],
      "text/plain": [
       "                    Timestamp Subject #:  \\\n",
       "0  2020/04/06 12:44:21 PM MDT    pilot01   \n",
       "1  2020/04/06 12:44:45 PM MDT    pilot02   \n",
       "\n",
       "   How many studio art classes have you taken at the high school level or above?   \\\n",
       "0                                                  5                                \n",
       "1                                                  0                                \n",
       "\n",
       "   How many art history classes have you taken at the high school level or above?   \\\n",
       "0                                                  3                                 \n",
       "1                                                  0                                 \n",
       "\n",
       "   How many art theory or aesthetics classes have you taken at the highschool level or above?   \\\n",
       "0                                                  3                                             \n",
       "1                                                  0                                             \n",
       "\n",
       "   On average, you visit art museums about once every  \\\n",
       "0                                                  1    \n",
       "1                                                  1    \n",
       "\n",
       "   On average, you visit art galleries about once every  \\\n",
       "0                                                  0      \n",
       "1                                                  0      \n",
       "\n",
       "   In the average week how many hours do you spend making visual art?   \\\n",
       "0                                                  0                     \n",
       "1                                                  0                     \n",
       "\n",
       "   In the average week how many hours do you spend reading a publication that is related to visual art?   \\\n",
       "0                                                  0                                                       \n",
       "1                                                  0                                                       \n",
       "\n",
       "    In the average week how many hours do you spend each week looking at visual art?  \n",
       "0                                                  0                                  \n",
       "1                                                  0                                  "
      ]
     },
     "execution_count": 12,
     "metadata": {},
     "output_type": "execute_result"
    }
   ],
   "source": [
    "# Replace text responses with numeric responses\n",
    "data = raw_data.replace({\n",
    "    'Almost never':0,\n",
    "    'year':1,\n",
    "    '6 months':2,\n",
    "    '2 months':3,\n",
    "    'month':4,\n",
    "    'week':5\n",
    "}, regex=True)\n",
    "\n",
    "data = data.fillna(0)\n",
    "data"
   ]
  },
  {
   "cell_type": "code",
   "execution_count": 17,
   "metadata": {},
   "outputs": [
    {
     "data": {
      "text/plain": [
       "[12, 1]"
      ]
     },
     "execution_count": 17,
     "metadata": {},
     "output_type": "execute_result"
    }
   ],
   "source": [
    "# Sum data (excluding timestamp and subject)\n",
    "sums = list(data.iloc[:, 2:].sum(axis=1))\n",
    "sums"
   ]
  },
  {
   "cell_type": "code",
   "execution_count": 20,
   "metadata": {},
   "outputs": [
    {
     "data": {
      "text/html": [
       "<div>\n",
       "<style scoped>\n",
       "    .dataframe tbody tr th:only-of-type {\n",
       "        vertical-align: middle;\n",
       "    }\n",
       "\n",
       "    .dataframe tbody tr th {\n",
       "        vertical-align: top;\n",
       "    }\n",
       "\n",
       "    .dataframe thead th {\n",
       "        text-align: right;\n",
       "    }\n",
       "</style>\n",
       "<table border=\"1\" class=\"dataframe\">\n",
       "  <thead>\n",
       "    <tr style=\"text-align: right;\">\n",
       "      <th></th>\n",
       "      <th>Subject</th>\n",
       "      <th>Measure</th>\n",
       "    </tr>\n",
       "  </thead>\n",
       "  <tbody>\n",
       "    <tr>\n",
       "      <th>0</th>\n",
       "      <td>pilot01</td>\n",
       "      <td>12</td>\n",
       "    </tr>\n",
       "    <tr>\n",
       "      <th>1</th>\n",
       "      <td>pilot02</td>\n",
       "      <td>1</td>\n",
       "    </tr>\n",
       "  </tbody>\n",
       "</table>\n",
       "</div>"
      ],
      "text/plain": [
       "   Subject  Measure\n",
       "0  pilot01       12\n",
       "1  pilot02        1"
      ]
     },
     "execution_count": 20,
     "metadata": {},
     "output_type": "execute_result"
    }
   ],
   "source": [
    "# Compile cols in new dataframe\n",
    "\n",
    "names = list(data[list(data.columns)[1]])\n",
    "\n",
    "d = {\n",
    "    'Subject':names,\n",
    "    'Measure':sums,\n",
    "}\n",
    "\n",
    "df = pd.DataFrame(d)\n",
    "df"
   ]
  },
  {
   "cell_type": "code",
   "execution_count": 21,
   "metadata": {},
   "outputs": [],
   "source": [
    "# Save as csv\n",
    "df.to_csv('cleaned_data/cleaned_experience.csv', index=False)"
   ]
  },
  {
   "cell_type": "code",
   "execution_count": null,
   "metadata": {},
   "outputs": [],
   "source": []
  }
 ],
 "metadata": {
  "kernelspec": {
   "display_name": "Python 3",
   "language": "python",
   "name": "python3"
  },
  "language_info": {
   "codemirror_mode": {
    "name": "ipython",
    "version": 3
   },
   "file_extension": ".py",
   "mimetype": "text/x-python",
   "name": "python",
   "nbconvert_exporter": "python",
   "pygments_lexer": "ipython3",
   "version": "3.7.3"
  }
 },
 "nbformat": 4,
 "nbformat_minor": 2
}
